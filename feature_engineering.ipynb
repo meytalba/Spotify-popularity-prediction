{
 "cells": [
  {
   "cell_type": "code",
   "execution_count": 109,
   "id": "c64e8c06-61a0-47e0-9350-1d94b08099b1",
   "metadata": {},
   "outputs": [],
   "source": [
    "import pandas as pd\n",
    "import numpy as np\n",
    "import seaborn as sns"
   ]
  },
  {
   "cell_type": "code",
   "execution_count": 110,
   "id": "9b8f61b6-919f-4f9f-89c5-ad3c06f02757",
   "metadata": {},
   "outputs": [
    {
     "data": {
      "text/html": [
       "<div>\n",
       "<style scoped>\n",
       "    .dataframe tbody tr th:only-of-type {\n",
       "        vertical-align: middle;\n",
       "    }\n",
       "\n",
       "    .dataframe tbody tr th {\n",
       "        vertical-align: top;\n",
       "    }\n",
       "\n",
       "    .dataframe thead th {\n",
       "        text-align: right;\n",
       "    }\n",
       "</style>\n",
       "<table border=\"1\" class=\"dataframe\">\n",
       "  <thead>\n",
       "    <tr style=\"text-align: right;\">\n",
       "      <th></th>\n",
       "      <th>track_popularity</th>\n",
       "      <th>danceability</th>\n",
       "      <th>energy</th>\n",
       "      <th>loudness</th>\n",
       "      <th>speechiness</th>\n",
       "      <th>acousticness</th>\n",
       "      <th>instrumentalness</th>\n",
       "      <th>liveness</th>\n",
       "      <th>valence</th>\n",
       "      <th>tempo</th>\n",
       "      <th>...</th>\n",
       "      <th>playlist_genre_latin</th>\n",
       "      <th>playlist_genre_pop</th>\n",
       "      <th>playlist_genre_r&amp;b</th>\n",
       "      <th>playlist_genre_rap</th>\n",
       "      <th>playlist_genre_rock</th>\n",
       "      <th>track_id</th>\n",
       "      <th>key</th>\n",
       "      <th>mode</th>\n",
       "      <th>track_album_release_date</th>\n",
       "      <th>playlist_genre</th>\n",
       "    </tr>\n",
       "  </thead>\n",
       "  <tbody>\n",
       "    <tr>\n",
       "      <th>0</th>\n",
       "      <td>41</td>\n",
       "      <td>0.682</td>\n",
       "      <td>0.401</td>\n",
       "      <td>-10.068</td>\n",
       "      <td>0.0236</td>\n",
       "      <td>0.279000</td>\n",
       "      <td>0.011700</td>\n",
       "      <td>0.0887</td>\n",
       "      <td>0.566</td>\n",
       "      <td>97.091</td>\n",
       "      <td>...</td>\n",
       "      <td>0</td>\n",
       "      <td>0</td>\n",
       "      <td>0</td>\n",
       "      <td>0</td>\n",
       "      <td>1</td>\n",
       "      <td>0017A6SJgTbfQVU2EtsPNo</td>\n",
       "      <td>2</td>\n",
       "      <td>1</td>\n",
       "      <td>2001-01-01</td>\n",
       "      <td>rock</td>\n",
       "    </tr>\n",
       "    <tr>\n",
       "      <th>1</th>\n",
       "      <td>15</td>\n",
       "      <td>0.582</td>\n",
       "      <td>0.704</td>\n",
       "      <td>-6.242</td>\n",
       "      <td>0.0347</td>\n",
       "      <td>0.065100</td>\n",
       "      <td>0.000000</td>\n",
       "      <td>0.2120</td>\n",
       "      <td>0.698</td>\n",
       "      <td>150.863</td>\n",
       "      <td>...</td>\n",
       "      <td>0</td>\n",
       "      <td>0</td>\n",
       "      <td>1</td>\n",
       "      <td>0</td>\n",
       "      <td>0</td>\n",
       "      <td>002xjHwzEx66OWFV2IP9dk</td>\n",
       "      <td>5</td>\n",
       "      <td>1</td>\n",
       "      <td>2018-01-26</td>\n",
       "      <td>r&amp;b</td>\n",
       "    </tr>\n",
       "    <tr>\n",
       "      <th>2</th>\n",
       "      <td>28</td>\n",
       "      <td>0.303</td>\n",
       "      <td>0.880</td>\n",
       "      <td>-4.739</td>\n",
       "      <td>0.0442</td>\n",
       "      <td>0.011700</td>\n",
       "      <td>0.009940</td>\n",
       "      <td>0.3470</td>\n",
       "      <td>0.404</td>\n",
       "      <td>135.225</td>\n",
       "      <td>...</td>\n",
       "      <td>0</td>\n",
       "      <td>0</td>\n",
       "      <td>0</td>\n",
       "      <td>0</td>\n",
       "      <td>1</td>\n",
       "      <td>004s3t0ONYlzxII9PLgU6z</td>\n",
       "      <td>9</td>\n",
       "      <td>1</td>\n",
       "      <td>2017-11-21</td>\n",
       "      <td>rock</td>\n",
       "    </tr>\n",
       "    <tr>\n",
       "      <th>3</th>\n",
       "      <td>24</td>\n",
       "      <td>0.659</td>\n",
       "      <td>0.794</td>\n",
       "      <td>-5.644</td>\n",
       "      <td>0.0540</td>\n",
       "      <td>0.000761</td>\n",
       "      <td>0.132000</td>\n",
       "      <td>0.3220</td>\n",
       "      <td>0.852</td>\n",
       "      <td>128.041</td>\n",
       "      <td>...</td>\n",
       "      <td>0</td>\n",
       "      <td>1</td>\n",
       "      <td>0</td>\n",
       "      <td>0</td>\n",
       "      <td>0</td>\n",
       "      <td>008MceT31RotUANsKuzy3L</td>\n",
       "      <td>10</td>\n",
       "      <td>0</td>\n",
       "      <td>2015-08-07</td>\n",
       "      <td>pop</td>\n",
       "    </tr>\n",
       "    <tr>\n",
       "      <th>4</th>\n",
       "      <td>38</td>\n",
       "      <td>0.662</td>\n",
       "      <td>0.838</td>\n",
       "      <td>-6.300</td>\n",
       "      <td>0.0499</td>\n",
       "      <td>0.114000</td>\n",
       "      <td>0.000697</td>\n",
       "      <td>0.0881</td>\n",
       "      <td>0.496</td>\n",
       "      <td>129.884</td>\n",
       "      <td>...</td>\n",
       "      <td>0</td>\n",
       "      <td>1</td>\n",
       "      <td>0</td>\n",
       "      <td>0</td>\n",
       "      <td>0</td>\n",
       "      <td>008rk8F6ZxspZT4bUlkIQG</td>\n",
       "      <td>1</td>\n",
       "      <td>1</td>\n",
       "      <td>2018-11-16</td>\n",
       "      <td>pop</td>\n",
       "    </tr>\n",
       "    <tr>\n",
       "      <th>...</th>\n",
       "      <td>...</td>\n",
       "      <td>...</td>\n",
       "      <td>...</td>\n",
       "      <td>...</td>\n",
       "      <td>...</td>\n",
       "      <td>...</td>\n",
       "      <td>...</td>\n",
       "      <td>...</td>\n",
       "      <td>...</td>\n",
       "      <td>...</td>\n",
       "      <td>...</td>\n",
       "      <td>...</td>\n",
       "      <td>...</td>\n",
       "      <td>...</td>\n",
       "      <td>...</td>\n",
       "      <td>...</td>\n",
       "      <td>...</td>\n",
       "      <td>...</td>\n",
       "      <td>...</td>\n",
       "      <td>...</td>\n",
       "      <td>...</td>\n",
       "    </tr>\n",
       "    <tr>\n",
       "      <th>28351</th>\n",
       "      <td>72</td>\n",
       "      <td>0.744</td>\n",
       "      <td>0.715</td>\n",
       "      <td>-6.103</td>\n",
       "      <td>0.3510</td>\n",
       "      <td>0.101000</td>\n",
       "      <td>0.000000</td>\n",
       "      <td>0.0919</td>\n",
       "      <td>0.340</td>\n",
       "      <td>154.962</td>\n",
       "      <td>...</td>\n",
       "      <td>0</td>\n",
       "      <td>0</td>\n",
       "      <td>1</td>\n",
       "      <td>0</td>\n",
       "      <td>0</td>\n",
       "      <td>7zxRMhXxJMQCeDDg0rKAVo</td>\n",
       "      <td>0</td>\n",
       "      <td>1</td>\n",
       "      <td>2017-02-24</td>\n",
       "      <td>r&amp;b</td>\n",
       "    </tr>\n",
       "    <tr>\n",
       "      <th>28352</th>\n",
       "      <td>36</td>\n",
       "      <td>0.832</td>\n",
       "      <td>0.666</td>\n",
       "      <td>-4.920</td>\n",
       "      <td>0.0633</td>\n",
       "      <td>0.143000</td>\n",
       "      <td>0.000000</td>\n",
       "      <td>0.0720</td>\n",
       "      <td>0.810</td>\n",
       "      <td>109.536</td>\n",
       "      <td>...</td>\n",
       "      <td>0</td>\n",
       "      <td>0</td>\n",
       "      <td>1</td>\n",
       "      <td>0</td>\n",
       "      <td>0</td>\n",
       "      <td>7zyLObYw4QUKQDyZOb4J0Y</td>\n",
       "      <td>1</td>\n",
       "      <td>0</td>\n",
       "      <td>2010-10-01</td>\n",
       "      <td>r&amp;b</td>\n",
       "    </tr>\n",
       "    <tr>\n",
       "      <th>28353</th>\n",
       "      <td>49</td>\n",
       "      <td>0.963</td>\n",
       "      <td>0.603</td>\n",
       "      <td>-6.224</td>\n",
       "      <td>0.1800</td>\n",
       "      <td>0.067300</td>\n",
       "      <td>0.000006</td>\n",
       "      <td>0.2140</td>\n",
       "      <td>0.647</td>\n",
       "      <td>129.990</td>\n",
       "      <td>...</td>\n",
       "      <td>0</td>\n",
       "      <td>1</td>\n",
       "      <td>0</td>\n",
       "      <td>0</td>\n",
       "      <td>0</td>\n",
       "      <td>7zycSpvjDcqh6YT1FEl2kY</td>\n",
       "      <td>2</td>\n",
       "      <td>1</td>\n",
       "      <td>2014-12-15</td>\n",
       "      <td>pop</td>\n",
       "    </tr>\n",
       "    <tr>\n",
       "      <th>28354</th>\n",
       "      <td>40</td>\n",
       "      <td>0.458</td>\n",
       "      <td>0.540</td>\n",
       "      <td>-6.457</td>\n",
       "      <td>0.0270</td>\n",
       "      <td>0.715000</td>\n",
       "      <td>0.000428</td>\n",
       "      <td>0.1150</td>\n",
       "      <td>0.657</td>\n",
       "      <td>142.218</td>\n",
       "      <td>...</td>\n",
       "      <td>0</td>\n",
       "      <td>0</td>\n",
       "      <td>1</td>\n",
       "      <td>0</td>\n",
       "      <td>0</td>\n",
       "      <td>7zye9v6B785eFWEFYs13C2</td>\n",
       "      <td>5</td>\n",
       "      <td>0</td>\n",
       "      <td>2013-07-09</td>\n",
       "      <td>r&amp;b</td>\n",
       "    </tr>\n",
       "    <tr>\n",
       "      <th>28355</th>\n",
       "      <td>61</td>\n",
       "      <td>0.664</td>\n",
       "      <td>0.537</td>\n",
       "      <td>-6.000</td>\n",
       "      <td>0.0290</td>\n",
       "      <td>0.217000</td>\n",
       "      <td>0.000003</td>\n",
       "      <td>0.1180</td>\n",
       "      <td>0.221</td>\n",
       "      <td>115.049</td>\n",
       "      <td>...</td>\n",
       "      <td>0</td>\n",
       "      <td>0</td>\n",
       "      <td>0</td>\n",
       "      <td>0</td>\n",
       "      <td>1</td>\n",
       "      <td>7zzZmpw8L66ZPjH1M6qmOs</td>\n",
       "      <td>2</td>\n",
       "      <td>1</td>\n",
       "      <td>2008-07-28</td>\n",
       "      <td>rock</td>\n",
       "    </tr>\n",
       "  </tbody>\n",
       "</table>\n",
       "<p>28356 rows × 23 columns</p>\n",
       "</div>"
      ],
      "text/plain": [
       "       track_popularity  danceability  energy  loudness  speechiness  \\\n",
       "0                    41         0.682   0.401   -10.068       0.0236   \n",
       "1                    15         0.582   0.704    -6.242       0.0347   \n",
       "2                    28         0.303   0.880    -4.739       0.0442   \n",
       "3                    24         0.659   0.794    -5.644       0.0540   \n",
       "4                    38         0.662   0.838    -6.300       0.0499   \n",
       "...                 ...           ...     ...       ...          ...   \n",
       "28351                72         0.744   0.715    -6.103       0.3510   \n",
       "28352                36         0.832   0.666    -4.920       0.0633   \n",
       "28353                49         0.963   0.603    -6.224       0.1800   \n",
       "28354                40         0.458   0.540    -6.457       0.0270   \n",
       "28355                61         0.664   0.537    -6.000       0.0290   \n",
       "\n",
       "       acousticness  instrumentalness  liveness  valence    tempo  ...  \\\n",
       "0          0.279000          0.011700    0.0887    0.566   97.091  ...   \n",
       "1          0.065100          0.000000    0.2120    0.698  150.863  ...   \n",
       "2          0.011700          0.009940    0.3470    0.404  135.225  ...   \n",
       "3          0.000761          0.132000    0.3220    0.852  128.041  ...   \n",
       "4          0.114000          0.000697    0.0881    0.496  129.884  ...   \n",
       "...             ...               ...       ...      ...      ...  ...   \n",
       "28351      0.101000          0.000000    0.0919    0.340  154.962  ...   \n",
       "28352      0.143000          0.000000    0.0720    0.810  109.536  ...   \n",
       "28353      0.067300          0.000006    0.2140    0.647  129.990  ...   \n",
       "28354      0.715000          0.000428    0.1150    0.657  142.218  ...   \n",
       "28355      0.217000          0.000003    0.1180    0.221  115.049  ...   \n",
       "\n",
       "       playlist_genre_latin  playlist_genre_pop  playlist_genre_r&b  \\\n",
       "0                         0                   0                   0   \n",
       "1                         0                   0                   1   \n",
       "2                         0                   0                   0   \n",
       "3                         0                   1                   0   \n",
       "4                         0                   1                   0   \n",
       "...                     ...                 ...                 ...   \n",
       "28351                     0                   0                   1   \n",
       "28352                     0                   0                   1   \n",
       "28353                     0                   1                   0   \n",
       "28354                     0                   0                   1   \n",
       "28355                     0                   0                   0   \n",
       "\n",
       "       playlist_genre_rap  playlist_genre_rock                track_id  key  \\\n",
       "0                       0                    1  0017A6SJgTbfQVU2EtsPNo    2   \n",
       "1                       0                    0  002xjHwzEx66OWFV2IP9dk    5   \n",
       "2                       0                    1  004s3t0ONYlzxII9PLgU6z    9   \n",
       "3                       0                    0  008MceT31RotUANsKuzy3L   10   \n",
       "4                       0                    0  008rk8F6ZxspZT4bUlkIQG    1   \n",
       "...                   ...                  ...                     ...  ...   \n",
       "28351                   0                    0  7zxRMhXxJMQCeDDg0rKAVo    0   \n",
       "28352                   0                    0  7zyLObYw4QUKQDyZOb4J0Y    1   \n",
       "28353                   0                    0  7zycSpvjDcqh6YT1FEl2kY    2   \n",
       "28354                   0                    0  7zye9v6B785eFWEFYs13C2    5   \n",
       "28355                   0                    1  7zzZmpw8L66ZPjH1M6qmOs    2   \n",
       "\n",
       "       mode track_album_release_date playlist_genre  \n",
       "0         1               2001-01-01           rock  \n",
       "1         1               2018-01-26            r&b  \n",
       "2         1               2017-11-21           rock  \n",
       "3         0               2015-08-07            pop  \n",
       "4         1               2018-11-16            pop  \n",
       "...     ...                      ...            ...  \n",
       "28351     1               2017-02-24            r&b  \n",
       "28352     0               2010-10-01            r&b  \n",
       "28353     1               2014-12-15            pop  \n",
       "28354     0               2013-07-09            r&b  \n",
       "28355     1               2008-07-28           rock  \n",
       "\n",
       "[28356 rows x 23 columns]"
      ]
     },
     "execution_count": 110,
     "metadata": {},
     "output_type": "execute_result"
    }
   ],
   "source": [
    "df = pd.read_pickle(\"EDA_final.pkl\")\n",
    "df"
   ]
  },
  {
   "cell_type": "code",
   "execution_count": 111,
   "id": "caa0d643-9ae2-4916-a14e-52940def25ea",
   "metadata": {},
   "outputs": [
    {
     "name": "stdout",
     "output_type": "stream",
     "text": [
      "<class 'pandas.core.frame.DataFrame'>\n",
      "RangeIndex: 28356 entries, 0 to 28355\n",
      "Data columns (total 23 columns):\n",
      " #   Column                    Non-Null Count  Dtype         \n",
      "---  ------                    --------------  -----         \n",
      " 0   track_popularity          28356 non-null  int64         \n",
      " 1   danceability              28356 non-null  float64       \n",
      " 2   energy                    28356 non-null  float64       \n",
      " 3   loudness                  28356 non-null  float64       \n",
      " 4   speechiness               28356 non-null  float64       \n",
      " 5   acousticness              28356 non-null  float64       \n",
      " 6   instrumentalness          28356 non-null  float64       \n",
      " 7   liveness                  28356 non-null  float64       \n",
      " 8   valence                   28356 non-null  float64       \n",
      " 9   tempo                     28356 non-null  float64       \n",
      " 10  duration_ms               28356 non-null  int64         \n",
      " 11  unique_playlist_count     28356 non-null  int64         \n",
      " 12  playlist_genre_edm        28356 non-null  int64         \n",
      " 13  playlist_genre_latin      28356 non-null  int64         \n",
      " 14  playlist_genre_pop        28356 non-null  int64         \n",
      " 15  playlist_genre_r&b        28356 non-null  int64         \n",
      " 16  playlist_genre_rap        28356 non-null  int64         \n",
      " 17  playlist_genre_rock       28356 non-null  int64         \n",
      " 18  track_id                  28356 non-null  object        \n",
      " 19  key                       28356 non-null  category      \n",
      " 20  mode                      28356 non-null  category      \n",
      " 21  track_album_release_date  28356 non-null  datetime64[ns]\n",
      " 22  playlist_genre            28356 non-null  object        \n",
      "dtypes: category(2), datetime64[ns](1), float64(9), int64(9), object(2)\n",
      "memory usage: 4.6+ MB\n"
     ]
    }
   ],
   "source": [
    "df.info()"
   ]
  },
  {
   "cell_type": "markdown",
   "id": "61796048-80ce-44cc-8d97-bf46049f7ec8",
   "metadata": {},
   "source": [
    "# Creating one hot encoding for a new column 'five_popular_word' for demmies encoding"
   ]
  },
  {
   "cell_type": "markdown",
   "id": "779643e0-afff-456d-91b9-11a9c6fa8223",
   "metadata": {},
   "source": [
    "Adding a new column, 'five_popular_words', which contains the five most frequently occurring words from the 'track_name' column across all rows"
   ]
  },
  {
   "cell_type": "code",
   "execution_count": 114,
   "id": "32cb277b-a69e-47c1-960c-dd2069ec62d8",
   "metadata": {},
   "outputs": [
    {
     "name": "stdout",
     "output_type": "stream",
     "text": [
      "EDA_final rows: 28356\n",
      "Merged DataFrame rows: 28356\n",
      "   track_popularity  danceability  energy  loudness  speechiness  \\\n",
      "0                41         0.682   0.401   -10.068       0.0236   \n",
      "1                15         0.582   0.704    -6.242       0.0347   \n",
      "2                28         0.303   0.880    -4.739       0.0442   \n",
      "3                24         0.659   0.794    -5.644       0.0540   \n",
      "4                38         0.662   0.838    -6.300       0.0499   \n",
      "\n",
      "   acousticness  instrumentalness  liveness  valence    tempo  ...  \\\n",
      "0      0.279000          0.011700    0.0887    0.566   97.091  ...   \n",
      "1      0.065100          0.000000    0.2120    0.698  150.863  ...   \n",
      "2      0.011700          0.009940    0.3470    0.404  135.225  ...   \n",
      "3      0.000761          0.132000    0.3220    0.852  128.041  ...   \n",
      "4      0.114000          0.000697    0.0881    0.496  129.884  ...   \n",
      "\n",
      "         track_artist          track_album_id  track_album_name  \\\n",
      "0     Barbie's Cradle  1srJQ0njEQgd8w4XSqI4JQ              Trip   \n",
      "1                RIKA  1ficfUnZMaY1QkNp15Slzm        The Others   \n",
      "2       Steady Rollin  3z04Lb9Dsilqw68SHt6jLB       Love & Loss   \n",
      "3  The.madpix.project  1Z4ANBVuhTlS6DprlP0m1q       Liquid Blue   \n",
      "4         YOSA & TAAR  2BuYm9UcKvI0ydXs5JKwt0             Fever   \n",
      "\n",
      "                   playlist_name             playlist_id  feat  remix  you me  \\\n",
      "0             Pinoy Classic Rock  37i9dQZF1DWYDQ8wBxd7xt     0      0    0  0   \n",
      "1    Groovy // Funky // Neo-Soul  0JmBB9HfrzDiZoPVRdv8ns     0      0    0  0   \n",
      "2              Hard Rock Workout  3YouF0u7waJnolytf9JCXf     0      0    0  0   \n",
      "3               Electropop - Pop  5TiiHps0hNCyQ6ijVkNZQs     0      0    0  0   \n",
      "4  Best of 2019 Dance Pop: Japan  37i9dQZF1DXdOtZGKonFlM     0      0    0  0   \n",
      "\n",
      "   i  \n",
      "0  0  \n",
      "1  0  \n",
      "2  1  \n",
      "3  0  \n",
      "4  0  \n",
      "\n",
      "[5 rows x 34 columns]\n"
     ]
    }
   ],
   "source": [
    "import re\n",
    "from collections import Counter\n",
    "\n",
    "# Load the datasets\n",
    "df_removed = pd.read_csv(\"df1_removed.csv\")  # Update with actual file path\n",
    "df_eda_final = pd.read_csv(\"EDA_final.csv\")  # Update with actual file path\n",
    "\n",
    "# Manually define common English stopwords\n",
    "manual_stopwords = {\n",
    "    \"the\", \"a\", \"an\", \"in\", \"on\", \"at\", \"to\", \"and\", \"or\", \"but\", \"if\", \"then\", \"because\", \n",
    "    \"so\", \"for\", \"with\", \"about\", \"against\", \"between\", \"into\", \"through\", \"during\", \"before\",\n",
    "    \"after\", \"above\", \"below\", \"of\", \"off\", \"out\", \"over\", \"under\", \"again\", \"further\", \"once\",\n",
    "    \"here\", \"there\", \"when\", \"where\", \"why\", \"how\", \"all\", \"any\", \"both\", \"each\", \"few\", \"more\",\n",
    "    \"most\", \"other\", \"some\", \"such\", \"no\", \"nor\", \"not\", \"only\", \"own\", \"same\", \"than\", \"too\",\n",
    "    \"very\", \"s\", \"t\", \"can\", \"will\", \"just\", \"don\", \"should\", \"now\"\n",
    "}\n",
    "\n",
    "# Function to clean track names\n",
    "def clean_text(text):\n",
    "    text = text.lower()  # Convert to lowercase\n",
    "    text = re.sub(r'[^a-z\\s]', '', text)  # Remove non-alphabetic characters and hyphens\n",
    "    words = text.split()\n",
    "    words = [word for word in words if word not in manual_stopwords]  # Remove stopwords\n",
    "    return ' '.join(words)\n",
    "\n",
    "# Apply cleaning\n",
    "df_removed['clean_track_name'] = df_removed['track_name'].astype(str).apply(clean_text)\n",
    "\n",
    "# Extract words from cleaned track names\n",
    "all_words = ' '.join(df_removed['clean_track_name']).split()\n",
    "\n",
    "# Count word frequencies\n",
    "word_counts = Counter(all_words)\n",
    "\n",
    "# Get the five most common words\n",
    "most_common_words = [word for word, count in word_counts.most_common(5)]\n",
    "\n",
    "# Ensure words are safe for regex by escaping special characters\n",
    "safe_common_words = [re.escape(word) for word in most_common_words]\n",
    "\n",
    "# One-hot encode the most common words\n",
    "for word in safe_common_words:\n",
    "    df_removed[word] = df_removed['clean_track_name'].str.contains(rf'\\b{word}\\b', case=False, na=False, regex=True).astype(int)\n",
    "\n",
    "# Drop unnecessary columns\n",
    "df_removed.drop(columns=['five_popular_words', 'clean_track_name'], errors='ignore', inplace=True)\n",
    "\n",
    "# Ensure df_removed has unique track_id values before merging\n",
    "df_removed_unique = df_removed.drop_duplicates(subset='track_id')\n",
    "\n",
    "# Merge with EDA_final.csv based on 'track_id', keeping only rows that exist in df_eda_final\n",
    "df_merged = df_eda_final.merge(df_removed_unique, on='track_id', how='left')\n",
    "\n",
    "# Save the correctly merged DataFrame\n",
    "df_merged.to_csv(\"merged_df_refined.csv\", index=False)\n",
    "\n",
    "# Print row counts to verify correctness\n",
    "print(f\"EDA_final rows: {df_eda_final.shape[0]}\")\n",
    "print(f\"Merged DataFrame rows: {df_merged.shape[0]}\")\n",
    "\n",
    "# Display first few rows (optional)\n",
    "print(df_merged.head())\n"
   ]
  },
  {
   "cell_type": "markdown",
   "id": "f9bc0f6a-a4f9-48cf-94df-8fb4502e0f97",
   "metadata": {},
   "source": [
    "The next cell Cleans track_name by removing hyphens (-) and common stopwords.\n",
    "\n",
    "Extracts the five most common words.\n",
    "\n",
    "One-hot encodes those words. Creates new columns for each of the five words, marking their presence in each row.\n",
    "\n",
    "Ensures df_removed has unique track_id values before merging. Prevents duplicate merges: Uses .drop_duplicates(subset='track_id') to ensure df_removed has only one row per track_id.\n",
    "\n",
    "Merges df_removed with EDA_final.csv on track_id, keeping only relevant rows."
   ]
  },
  {
   "cell_type": "code",
   "execution_count": 116,
   "id": "b8929d75-9ed3-4ad0-9bfd-08f326638387",
   "metadata": {},
   "outputs": [
    {
     "name": "stdout",
     "output_type": "stream",
     "text": [
      "Merged DataFrame row count: 28356\n",
      "EDA_final row count: 28356\n",
      "✅ The row count is correct: 28,356 rows.\n"
     ]
    }
   ],
   "source": [
    "\n",
    "# Load the merged DataFrame\n",
    "df_merged = pd.read_csv(\"merged_df_refined.csv\")  # Update with the correct file path if needed\n",
    "\n",
    "# Print the number of rows\n",
    "print(f\"Merged DataFrame row count: {df_merged.shape[0]}\")\n",
    "\n",
    "# Verify against EDA_final.csv\n",
    "df_eda_final = pd.read_csv(\"EDA_final.csv\")  # Update with the correct file path\n",
    "print(f\"EDA_final row count: {df_eda_final.shape[0]}\")\n",
    "\n",
    "# Check if the row counts match\n",
    "if df_merged.shape[0] == df_eda_final.shape[0]:\n",
    "    print(\"✅ The row count is correct: 28,356 rows.\")\n",
    "else:\n",
    "    print(\"❌ Mismatch in row count! Check for duplicate track_id values in df_removed.\")\n"
   ]
  },
  {
   "cell_type": "code",
   "execution_count": 117,
   "id": "c457f63f-ea25-4717-bace-9f55c94e3efe",
   "metadata": {},
   "outputs": [
    {
     "data": {
      "text/plain": [
       "Index(['track_popularity', 'danceability', 'energy', 'loudness', 'speechiness',\n",
       "       'acousticness', 'instrumentalness', 'liveness', 'valence', 'tempo',\n",
       "       'duration_ms', 'unique_playlist_count', 'playlist_genre_edm',\n",
       "       'playlist_genre_latin', 'playlist_genre_pop', 'playlist_genre_r&b',\n",
       "       'playlist_genre_rap', 'playlist_genre_rock', 'track_id', 'key', 'mode',\n",
       "       'track_album_release_date', 'playlist_genre', 'track_name',\n",
       "       'track_artist', 'track_album_id', 'track_album_name', 'playlist_name',\n",
       "       'playlist_id', 'feat', 'remix', 'you', 'me', 'i'],\n",
       "      dtype='object')"
      ]
     },
     "execution_count": 117,
     "metadata": {},
     "output_type": "execute_result"
    }
   ],
   "source": [
    "df_merged.columns"
   ]
  },
  {
   "cell_type": "code",
   "execution_count": 118,
   "id": "93f24c78-d4b5-4075-9531-ec2b361c0ce6",
   "metadata": {},
   "outputs": [],
   "source": [
    "## Extract 'year' and 'month' from 'track_album_release_date'"
   ]
  },
  {
   "cell_type": "code",
   "execution_count": 119,
   "id": "3adc4e38-d21d-4b36-955e-a6b429f35d43",
   "metadata": {},
   "outputs": [],
   "source": [
    "\n",
    "# Convert 'track_album_release_date' to datetime and extract year and month\n",
    "df_merged['release_year'] = pd.to_datetime(df['track_album_release_date']).dt.year\n",
    "df_merged['release_month'] = pd.to_datetime(df['track_album_release_date']).dt.month\n",
    "\n",
    "# Drop the original 'track_album_release_date' column\n",
    "df_merged.drop(columns=['track_album_release_date'], inplace=True)\n"
   ]
  },
  {
   "cell_type": "code",
   "execution_count": 120,
   "id": "ddde1917-010a-4b57-bd7f-655de7d546eb",
   "metadata": {},
   "outputs": [
    {
     "data": {
      "text/plain": [
       "Index(['track_popularity', 'danceability', 'energy', 'loudness', 'speechiness',\n",
       "       'acousticness', 'instrumentalness', 'liveness', 'valence', 'tempo',\n",
       "       'duration_ms', 'unique_playlist_count', 'playlist_genre_edm',\n",
       "       'playlist_genre_latin', 'playlist_genre_pop', 'playlist_genre_r&b',\n",
       "       'playlist_genre_rap', 'playlist_genre_rock', 'track_id', 'key', 'mode',\n",
       "       'playlist_genre', 'track_name', 'track_artist', 'track_album_id',\n",
       "       'track_album_name', 'playlist_name', 'playlist_id', 'feat', 'remix',\n",
       "       'you', 'me', 'i', 'release_year', 'release_month'],\n",
       "      dtype='object')"
      ]
     },
     "execution_count": 120,
     "metadata": {},
     "output_type": "execute_result"
    }
   ],
   "source": [
    "df_merged.columns"
   ]
  },
  {
   "cell_type": "markdown",
   "id": "a4374d0e-6ddb-4e40-9278-3941e6a0ea24",
   "metadata": {},
   "source": [
    "## convert 'duration_ms' to 'duration_s' (seconds)"
   ]
  },
  {
   "cell_type": "code",
   "execution_count": 122,
   "id": "90aae89e-f9c5-4463-b065-0b6f0a045bc4",
   "metadata": {},
   "outputs": [
    {
     "name": "stdout",
     "output_type": "stream",
     "text": [
      "   track_popularity  danceability  energy  loudness  speechiness  \\\n",
      "0                41         0.682   0.401   -10.068       0.0236   \n",
      "1                15         0.582   0.704    -6.242       0.0347   \n",
      "2                28         0.303   0.880    -4.739       0.0442   \n",
      "3                24         0.659   0.794    -5.644       0.0540   \n",
      "4                38         0.662   0.838    -6.300       0.0499   \n",
      "\n",
      "   acousticness  instrumentalness  liveness  valence    tempo  ...  \\\n",
      "0      0.279000          0.011700    0.0887    0.566   97.091  ...   \n",
      "1      0.065100          0.000000    0.2120    0.698  150.863  ...   \n",
      "2      0.011700          0.009940    0.3470    0.404  135.225  ...   \n",
      "3      0.000761          0.132000    0.3220    0.852  128.041  ...   \n",
      "4      0.114000          0.000697    0.0881    0.496  129.884  ...   \n",
      "\n",
      "                   playlist_name             playlist_id  feat  remix  you  \\\n",
      "0             Pinoy Classic Rock  37i9dQZF1DWYDQ8wBxd7xt     0      0    0   \n",
      "1    Groovy // Funky // Neo-Soul  0JmBB9HfrzDiZoPVRdv8ns     0      0    0   \n",
      "2              Hard Rock Workout  3YouF0u7waJnolytf9JCXf     0      0    0   \n",
      "3               Electropop - Pop  5TiiHps0hNCyQ6ijVkNZQs     0      0    0   \n",
      "4  Best of 2019 Dance Pop: Japan  37i9dQZF1DXdOtZGKonFlM     0      0    0   \n",
      "\n",
      "   me  i release_year  release_month  duration_s  \n",
      "0   0  0         2001              1     235.440  \n",
      "1   0  0         2018              1     197.286  \n",
      "2   0  1         2017             11     373.512  \n",
      "3   0  0         2015              8     228.565  \n",
      "4   0  0         2018             11     236.308  \n",
      "\n",
      "[5 rows x 35 columns]\n"
     ]
    }
   ],
   "source": [
    "# Convert 'duration_ms' from milliseconds to seconds\n",
    "df_merged['duration_s'] = df_merged['duration_ms'] / 1000\n",
    "\n",
    "# Drop the 'duration_ms' column\n",
    "df_merged.drop(columns=['duration_ms'], inplace=True)\n",
    "\n",
    "# Display the updated dataframe\n",
    "print(df_merged.head())  # To check the first few rows\n"
   ]
  },
  {
   "cell_type": "code",
   "execution_count": 123,
   "id": "9c583d87-ab1f-4220-8d00-558e647207ec",
   "metadata": {},
   "outputs": [
    {
     "name": "stdout",
     "output_type": "stream",
     "text": [
      "<class 'pandas.core.frame.DataFrame'>\n",
      "RangeIndex: 28356 entries, 0 to 28355\n",
      "Data columns (total 35 columns):\n",
      " #   Column                 Non-Null Count  Dtype  \n",
      "---  ------                 --------------  -----  \n",
      " 0   track_popularity       28356 non-null  int64  \n",
      " 1   danceability           28356 non-null  float64\n",
      " 2   energy                 28356 non-null  float64\n",
      " 3   loudness               28356 non-null  float64\n",
      " 4   speechiness            28356 non-null  float64\n",
      " 5   acousticness           28356 non-null  float64\n",
      " 6   instrumentalness       28356 non-null  float64\n",
      " 7   liveness               28356 non-null  float64\n",
      " 8   valence                28356 non-null  float64\n",
      " 9   tempo                  28356 non-null  float64\n",
      " 10  unique_playlist_count  28356 non-null  int64  \n",
      " 11  playlist_genre_edm     28356 non-null  int64  \n",
      " 12  playlist_genre_latin   28356 non-null  int64  \n",
      " 13  playlist_genre_pop     28356 non-null  int64  \n",
      " 14  playlist_genre_r&b     28356 non-null  int64  \n",
      " 15  playlist_genre_rap     28356 non-null  int64  \n",
      " 16  playlist_genre_rock    28356 non-null  int64  \n",
      " 17  track_id               28356 non-null  object \n",
      " 18  key                    28356 non-null  int64  \n",
      " 19  mode                   28356 non-null  int64  \n",
      " 20  playlist_genre         28356 non-null  object \n",
      " 21  track_name             28352 non-null  object \n",
      " 22  track_artist           28352 non-null  object \n",
      " 23  track_album_id         28356 non-null  object \n",
      " 24  track_album_name       28352 non-null  object \n",
      " 25  playlist_name          28356 non-null  object \n",
      " 26  playlist_id            28356 non-null  object \n",
      " 27  feat                   28356 non-null  int64  \n",
      " 28  remix                  28356 non-null  int64  \n",
      " 29  you                    28356 non-null  int64  \n",
      " 30  me                     28356 non-null  int64  \n",
      " 31  i                      28356 non-null  int64  \n",
      " 32  release_year           28356 non-null  int32  \n",
      " 33  release_month          28356 non-null  int32  \n",
      " 34  duration_s             28356 non-null  float64\n",
      "dtypes: float64(10), int32(2), int64(15), object(8)\n",
      "memory usage: 7.4+ MB\n"
     ]
    }
   ],
   "source": [
    "df_merged.info()"
   ]
  },
  {
   "cell_type": "markdown",
   "id": "b2c5c796-1e7b-4d90-a858-247c3372e67d",
   "metadata": {},
   "source": [
    "## Add new column \"before_2010\""
   ]
  },
  {
   "cell_type": "markdown",
   "id": "ef768f6d-acca-440d-a135-bc938e637d46",
   "metadata": {},
   "source": [
    "Since the TTEST in the EDA showed a significant difference between songs that were released before 2010 and after, I will add the column to my data frame for future modeling."
   ]
  },
  {
   "cell_type": "code",
   "execution_count": 126,
   "id": "53703481-84fa-43f1-8e48-a1e13b50c98c",
   "metadata": {},
   "outputs": [
    {
     "name": "stdout",
     "output_type": "stream",
     "text": [
      "before_2010\n",
      "1    20460\n",
      "0     7896\n",
      "Name: count, dtype: int64\n"
     ]
    }
   ],
   "source": [
    "# Add a binary column: 0 = before 2010, 1 = 2010 or later\n",
    "df_merged['before_2010'] = (df_merged['release_year'] >= 2010).astype(int)\n",
    "\n",
    "# Optional: see how many songs fall into each group\n",
    "print(df_merged['before_2010'].value_counts())\n",
    "\n"
   ]
  },
  {
   "cell_type": "code",
   "execution_count": 127,
   "id": "ce9f52b7-0c62-4aca-86e4-38aa9830eb61",
   "metadata": {},
   "outputs": [
    {
     "data": {
      "text/plain": [
       "Index(['track_popularity', 'danceability', 'energy', 'loudness', 'speechiness',\n",
       "       'acousticness', 'instrumentalness', 'liveness', 'valence', 'tempo',\n",
       "       'unique_playlist_count', 'playlist_genre_edm', 'playlist_genre_latin',\n",
       "       'playlist_genre_pop', 'playlist_genre_r&b', 'playlist_genre_rap',\n",
       "       'playlist_genre_rock', 'track_id', 'key', 'mode', 'playlist_genre',\n",
       "       'track_name', 'track_artist', 'track_album_id', 'track_album_name',\n",
       "       'playlist_name', 'playlist_id', 'feat', 'remix', 'you', 'me', 'i',\n",
       "       'release_year', 'release_month', 'duration_s', 'before_2010'],\n",
       "      dtype='object')"
      ]
     },
     "execution_count": 127,
     "metadata": {},
     "output_type": "execute_result"
    }
   ],
   "source": [
    "df_merged.columns"
   ]
  },
  {
   "cell_type": "markdown",
   "id": "a0d9daf8-9e16-4085-9fb3-73032f255ae0",
   "metadata": {},
   "source": [
    "## Add new column \"number_tracks_artist\""
   ]
  },
  {
   "cell_type": "markdown",
   "id": "95d0b7f4-66dd-47ab-b2bd-912539f31a17",
   "metadata": {},
   "source": [
    "it can give hints about the artist’s fame or visibility. If an artist has lots of tracks in your dataset, they’re probably more well-known, more active, or more likely to be picked up by Spotify’s algorithm. Famous artists often release more songs, get more playlist placements, and have a bigger fanbase → leading to higher popularity scores."
   ]
  },
  {
   "cell_type": "code",
   "execution_count": 130,
   "id": "06a48119-008a-4569-a1fc-b140b8dbe4c2",
   "metadata": {},
   "outputs": [
    {
     "name": "stdout",
     "output_type": "stream",
     "text": [
      "         track_artist  number_tracks_artist\n",
      "0     Barbie's Cradle                   2.0\n",
      "1                RIKA                   1.0\n",
      "2       Steady Rollin                   2.0\n",
      "3  The.madpix.project                   5.0\n",
      "4         YOSA & TAAR                   1.0\n"
     ]
    }
   ],
   "source": [
    "# Add a column that counts how many tracks each artist has in the dataset\n",
    "df_merged['number_tracks_artist'] = df_merged.groupby('track_artist')['track_id'].transform('count')\n",
    "\n",
    "# Optional: take a look at the first few values\n",
    "print(df_merged[['track_artist', 'number_tracks_artist']].head())\n"
   ]
  },
  {
   "cell_type": "code",
   "execution_count": 131,
   "id": "c90103c0-c5af-4638-aceb-3d1b618ff7ae",
   "metadata": {},
   "outputs": [
    {
     "data": {
      "text/plain": [
       "Index(['track_popularity', 'danceability', 'energy', 'loudness', 'speechiness',\n",
       "       'acousticness', 'instrumentalness', 'liveness', 'valence', 'tempo',\n",
       "       'unique_playlist_count', 'playlist_genre_edm', 'playlist_genre_latin',\n",
       "       'playlist_genre_pop', 'playlist_genre_r&b', 'playlist_genre_rap',\n",
       "       'playlist_genre_rock', 'track_id', 'key', 'mode', 'playlist_genre',\n",
       "       'track_name', 'track_artist', 'track_album_id', 'track_album_name',\n",
       "       'playlist_name', 'playlist_id', 'feat', 'remix', 'you', 'me', 'i',\n",
       "       'release_year', 'release_month', 'duration_s', 'before_2010',\n",
       "       'number_tracks_artist'],\n",
       "      dtype='object')"
      ]
     },
     "execution_count": 131,
     "metadata": {},
     "output_type": "execute_result"
    }
   ],
   "source": [
    "df_merged.columns"
   ]
  },
  {
   "cell_type": "markdown",
   "id": "0a3b0d6e-184e-4567-91f6-51e594c42ab3",
   "metadata": {},
   "source": [
    "## Add new column \"release_year\""
   ]
  },
  {
   "cell_type": "markdown",
   "id": "8befa685-304f-4174-b588-f29bb5529e66",
   "metadata": {},
   "source": [
    "computes the number of years since each song was released. It will captures a different angle:\n",
    "Instead of absolute time, it captures how old a song is — which is often more relevant to popularity modeling."
   ]
  },
  {
   "cell_type": "code",
   "execution_count": 134,
   "id": "ce572206-f61f-4a36-939b-a70a0e787960",
   "metadata": {},
   "outputs": [
    {
     "name": "stdout",
     "output_type": "stream",
     "text": [
      "   release_year  time_since_release\n",
      "0          2001                  19\n",
      "1          2018                   2\n",
      "2          2017                   3\n",
      "3          2015                   5\n",
      "4          2018                   2\n"
     ]
    }
   ],
   "source": [
    "# Get the most recent year in the dataset\n",
    "most_recent_year = df_merged['release_year'].max()\n",
    "\n",
    "# Calculate time since release\n",
    "df_merged['time_since_release'] = most_recent_year - df_merged['release_year']\n",
    "\n",
    "# Optional: check a few rows\n",
    "print(df_merged[['release_year', 'time_since_release']].head())\n"
   ]
  },
  {
   "cell_type": "code",
   "execution_count": 155,
   "id": "3feb22a2-141f-4128-acf2-4b05dd6a98e1",
   "metadata": {},
   "outputs": [
    {
     "data": {
      "text/plain": [
       "Index(['track_popularity', 'danceability', 'energy', 'loudness', 'speechiness',\n",
       "       'acousticness', 'instrumentalness', 'liveness', 'valence', 'tempo',\n",
       "       'unique_playlist_count', 'playlist_genre_edm', 'playlist_genre_latin',\n",
       "       'playlist_genre_pop', 'playlist_genre_r&b', 'playlist_genre_rap',\n",
       "       'playlist_genre_rock', 'track_id', 'key', 'mode', 'playlist_genre',\n",
       "       'track_name', 'track_artist', 'track_album_id', 'track_album_name',\n",
       "       'playlist_name', 'playlist_id', 'feat', 'remix', 'you', 'me', 'i',\n",
       "       'release_year', 'release_month', 'duration_s', 'before_2010',\n",
       "       'number_tracks_artist', 'time_since_release'],\n",
       "      dtype='object')"
      ]
     },
     "execution_count": 155,
     "metadata": {},
     "output_type": "execute_result"
    }
   ],
   "source": [
    "df_merged.columns"
   ]
  },
  {
   "cell_type": "code",
   "execution_count": 157,
   "id": "61be462c-a74a-44cf-a711-9e195ed7d72d",
   "metadata": {},
   "outputs": [
    {
     "name": "stdout",
     "output_type": "stream",
     "text": [
      "<class 'pandas.core.frame.DataFrame'>\n",
      "RangeIndex: 28356 entries, 0 to 28355\n",
      "Data columns (total 38 columns):\n",
      " #   Column                 Non-Null Count  Dtype  \n",
      "---  ------                 --------------  -----  \n",
      " 0   track_popularity       28356 non-null  int64  \n",
      " 1   danceability           28356 non-null  float64\n",
      " 2   energy                 28356 non-null  float64\n",
      " 3   loudness               28356 non-null  float64\n",
      " 4   speechiness            28356 non-null  float64\n",
      " 5   acousticness           28356 non-null  float64\n",
      " 6   instrumentalness       28356 non-null  float64\n",
      " 7   liveness               28356 non-null  float64\n",
      " 8   valence                28356 non-null  float64\n",
      " 9   tempo                  28356 non-null  float64\n",
      " 10  unique_playlist_count  28356 non-null  int64  \n",
      " 11  playlist_genre_edm     28356 non-null  int64  \n",
      " 12  playlist_genre_latin   28356 non-null  int64  \n",
      " 13  playlist_genre_pop     28356 non-null  int64  \n",
      " 14  playlist_genre_r&b     28356 non-null  int64  \n",
      " 15  playlist_genre_rap     28356 non-null  int64  \n",
      " 16  playlist_genre_rock    28356 non-null  int64  \n",
      " 17  track_id               28356 non-null  object \n",
      " 18  key                    28356 non-null  int64  \n",
      " 19  mode                   28356 non-null  int64  \n",
      " 20  playlist_genre         28356 non-null  object \n",
      " 21  track_name             28352 non-null  object \n",
      " 22  track_artist           28352 non-null  object \n",
      " 23  track_album_id         28356 non-null  object \n",
      " 24  track_album_name       28352 non-null  object \n",
      " 25  playlist_name          28356 non-null  object \n",
      " 26  playlist_id            28356 non-null  object \n",
      " 27  feat                   28356 non-null  int64  \n",
      " 28  remix                  28356 non-null  int64  \n",
      " 29  you                    28356 non-null  int64  \n",
      " 30  me                     28356 non-null  int64  \n",
      " 31  i                      28356 non-null  int64  \n",
      " 32  release_year           28356 non-null  int32  \n",
      " 33  release_month          28356 non-null  int32  \n",
      " 34  duration_s             28356 non-null  float64\n",
      " 35  before_2010            28356 non-null  int32  \n",
      " 36  number_tracks_artist   28352 non-null  float64\n",
      " 37  time_since_release     28356 non-null  int32  \n",
      "dtypes: float64(11), int32(4), int64(15), object(8)\n",
      "memory usage: 7.8+ MB\n"
     ]
    }
   ],
   "source": [
    "df_merged.info()"
   ]
  },
  {
   "cell_type": "code",
   "execution_count": 159,
   "id": "27ca6429-2cec-41c2-b2e0-a449bda5e6ee",
   "metadata": {},
   "outputs": [],
   "source": [
    "df_merged_final=df_merged.copy()"
   ]
  },
  {
   "cell_type": "code",
   "execution_count": 161,
   "id": "3c9d5f6a-4fee-450b-b105-e02e33b70806",
   "metadata": {},
   "outputs": [
    {
     "name": "stdout",
     "output_type": "stream",
     "text": [
      "Updated DataFrame saved. New shape: (28356, 30)\n"
     ]
    }
   ],
   "source": [
    "\n",
    "# List of columns to drop \n",
    "columns_to_drop = [\"track_id\", \"track_name\",\"track_artist\", \"track_album_id\", \"track_album_name\", \"playlist_name\", \"playlist_id\", \"playlist_genre\" ]  # Replace with actual column names\n",
    "\n",
    "# Drop the specified columns\n",
    "df_merged_final.drop(columns=columns_to_drop, inplace=True, errors='ignore')\n",
    "\n",
    "# Save the updated DataFrame\n",
    "df_merged_final.to_csv(\"df_merged_final.csv\", index=False)\n",
    "df_merged_final.to_pickle(\"df_merged_final.pkl\")\n",
    "\n",
    "# Print confirmation and new shape\n",
    "print(f\"Updated DataFrame saved. New shape: {df_merged_final.shape}\")\n"
   ]
  },
  {
   "cell_type": "code",
   "execution_count": 163,
   "id": "93ab0ebe-abe8-425c-93e3-71e870941e14",
   "metadata": {},
   "outputs": [
    {
     "name": "stdout",
     "output_type": "stream",
     "text": [
      "<class 'pandas.core.frame.DataFrame'>\n",
      "RangeIndex: 28356 entries, 0 to 28355\n",
      "Data columns (total 30 columns):\n",
      " #   Column                 Non-Null Count  Dtype  \n",
      "---  ------                 --------------  -----  \n",
      " 0   track_popularity       28356 non-null  int64  \n",
      " 1   danceability           28356 non-null  float64\n",
      " 2   energy                 28356 non-null  float64\n",
      " 3   loudness               28356 non-null  float64\n",
      " 4   speechiness            28356 non-null  float64\n",
      " 5   acousticness           28356 non-null  float64\n",
      " 6   instrumentalness       28356 non-null  float64\n",
      " 7   liveness               28356 non-null  float64\n",
      " 8   valence                28356 non-null  float64\n",
      " 9   tempo                  28356 non-null  float64\n",
      " 10  unique_playlist_count  28356 non-null  int64  \n",
      " 11  playlist_genre_edm     28356 non-null  int64  \n",
      " 12  playlist_genre_latin   28356 non-null  int64  \n",
      " 13  playlist_genre_pop     28356 non-null  int64  \n",
      " 14  playlist_genre_r&b     28356 non-null  int64  \n",
      " 15  playlist_genre_rap     28356 non-null  int64  \n",
      " 16  playlist_genre_rock    28356 non-null  int64  \n",
      " 17  key                    28356 non-null  int64  \n",
      " 18  mode                   28356 non-null  int64  \n",
      " 19  feat                   28356 non-null  int64  \n",
      " 20  remix                  28356 non-null  int64  \n",
      " 21  you                    28356 non-null  int64  \n",
      " 22  me                     28356 non-null  int64  \n",
      " 23  i                      28356 non-null  int64  \n",
      " 24  release_year           28356 non-null  int32  \n",
      " 25  release_month          28356 non-null  int32  \n",
      " 26  duration_s             28356 non-null  float64\n",
      " 27  before_2010            28356 non-null  int32  \n",
      " 28  number_tracks_artist   28352 non-null  float64\n",
      " 29  time_since_release     28356 non-null  int32  \n",
      "dtypes: float64(11), int32(4), int64(15)\n",
      "memory usage: 6.1 MB\n"
     ]
    }
   ],
   "source": [
    "df_merged_final.info()"
   ]
  },
  {
   "cell_type": "code",
   "execution_count": 167,
   "id": "53f2659e-dfe8-4a58-b31f-13c28cb64863",
   "metadata": {},
   "outputs": [
    {
     "name": "stdout",
     "output_type": "stream",
     "text": [
      "Columns with missing values:\n",
      "['number_tracks_artist']\n"
     ]
    }
   ],
   "source": [
    "# Find columns in df_merged that contain missing values\n",
    "missing_columns = df_merged_final.columns[df_merged_final.isna().any()].tolist()\n",
    "\n",
    "# Print the column names\n",
    "print(\"Columns with missing values:\")\n",
    "print(missing_columns)\n"
   ]
  },
  {
   "cell_type": "code",
   "execution_count": 169,
   "id": "687325f0-e6a6-4eff-81ae-c1a5bab6afca",
   "metadata": {},
   "outputs": [
    {
     "name": "stdout",
     "output_type": "stream",
     "text": [
      "Rows with missing values:\n",
      "       track_popularity  danceability  energy  loudness  speechiness  \\\n",
      "12727                 0         0.675   0.919    -6.075       0.0366   \n",
      "19818                 0         0.465   0.820    -5.907       0.3070   \n",
      "20396                 0         0.678   0.659    -5.364       0.3190   \n",
      "22305                 0         0.714   0.821    -7.635       0.1760   \n",
      "\n",
      "       acousticness  instrumentalness  liveness  valence    tempo  ...  remix  \\\n",
      "12727        0.0606           0.00653    0.1030    0.726   97.017  ...      0   \n",
      "19818        0.0963           0.00000    0.0888    0.505   86.839  ...      0   \n",
      "20396        0.0534           0.00000    0.5530    0.191  146.153  ...      0   \n",
      "22305        0.0410           0.00000    0.1160    0.649   95.999  ...      0   \n",
      "\n",
      "       you  me  i  release_year  release_month  duration_s  before_2010  \\\n",
      "12727    0   0  0          2012              1     252.773            1   \n",
      "19818    0   0  0          2017             12     206.465            1   \n",
      "20396    0   0  0          2017             12     202.235            1   \n",
      "22305    0   0  0          2012              1     282.707            1   \n",
      "\n",
      "       number_tracks_artist  time_since_release  \n",
      "12727                   NaN                   8  \n",
      "19818                   NaN                   3  \n",
      "20396                   NaN                   3  \n",
      "22305                   NaN                   8  \n",
      "\n",
      "[4 rows x 30 columns]\n"
     ]
    }
   ],
   "source": [
    "# Display rows with missing values\n",
    "missing_rows = df_merged_final[df_merged_final.isna().any(axis=1)]\n",
    "\n",
    "# Show the first few rows with missing data\n",
    "print(\"Rows with missing values:\")\n",
    "print(missing_rows.head())\n"
   ]
  },
  {
   "cell_type": "code",
   "execution_count": 171,
   "id": "89282e62-80de-4d2c-95ee-519ba9cb1e51",
   "metadata": {},
   "outputs": [
    {
     "name": "stdout",
     "output_type": "stream",
     "text": [
      "Updated shape after dropping rows: (28352, 30)\n"
     ]
    }
   ],
   "source": [
    "# Drop rows where 'number_tracks_artist' is missing\n",
    "df_merged_final = df_merged_final[df_merged_final['number_tracks_artist'].notna()]\n",
    "\n",
    "# Optional: check the new shape\n",
    "print(f\"Updated shape after dropping rows: {df_merged_final.shape}\")\n"
   ]
  },
  {
   "cell_type": "code",
   "execution_count": 175,
   "id": "8d643c6a-0251-4107-8522-4e6de4bd1579",
   "metadata": {},
   "outputs": [],
   "source": [
    "# Save the updated DataFrame\n",
    "df_merged_final.to_csv(\"df_merged_final.csv\", index=False)\n",
    "df_merged_final.to_pickle(\"df_merged_final.pkl\")"
   ]
  },
  {
   "cell_type": "code",
   "execution_count": 177,
   "id": "0786eede-66b4-4ef4-bec0-95d51a3c6d23",
   "metadata": {},
   "outputs": [
    {
     "data": {
      "text/plain": [
       "Index(['track_popularity', 'danceability', 'energy', 'loudness', 'speechiness',\n",
       "       'acousticness', 'instrumentalness', 'liveness', 'valence', 'tempo',\n",
       "       'unique_playlist_count', 'playlist_genre_edm', 'playlist_genre_latin',\n",
       "       'playlist_genre_pop', 'playlist_genre_r&b', 'playlist_genre_rap',\n",
       "       'playlist_genre_rock', 'key', 'mode', 'feat', 'remix', 'you', 'me', 'i',\n",
       "       'release_year', 'release_month', 'duration_s', 'before_2010',\n",
       "       'number_tracks_artist', 'time_since_release'],\n",
       "      dtype='object')"
      ]
     },
     "execution_count": 177,
     "metadata": {},
     "output_type": "execute_result"
    }
   ],
   "source": [
    "df_merged_final.columns"
   ]
  },
  {
   "cell_type": "code",
   "execution_count": 179,
   "id": "18823bdd-3277-4ec6-a50d-b4e28c2bcca8",
   "metadata": {},
   "outputs": [
    {
     "name": "stdout",
     "output_type": "stream",
     "text": [
      "<class 'pandas.core.frame.DataFrame'>\n",
      "Index: 28352 entries, 0 to 28355\n",
      "Data columns (total 30 columns):\n",
      " #   Column                 Non-Null Count  Dtype  \n",
      "---  ------                 --------------  -----  \n",
      " 0   track_popularity       28352 non-null  int64  \n",
      " 1   danceability           28352 non-null  float64\n",
      " 2   energy                 28352 non-null  float64\n",
      " 3   loudness               28352 non-null  float64\n",
      " 4   speechiness            28352 non-null  float64\n",
      " 5   acousticness           28352 non-null  float64\n",
      " 6   instrumentalness       28352 non-null  float64\n",
      " 7   liveness               28352 non-null  float64\n",
      " 8   valence                28352 non-null  float64\n",
      " 9   tempo                  28352 non-null  float64\n",
      " 10  unique_playlist_count  28352 non-null  int64  \n",
      " 11  playlist_genre_edm     28352 non-null  int64  \n",
      " 12  playlist_genre_latin   28352 non-null  int64  \n",
      " 13  playlist_genre_pop     28352 non-null  int64  \n",
      " 14  playlist_genre_r&b     28352 non-null  int64  \n",
      " 15  playlist_genre_rap     28352 non-null  int64  \n",
      " 16  playlist_genre_rock    28352 non-null  int64  \n",
      " 17  key                    28352 non-null  int64  \n",
      " 18  mode                   28352 non-null  int64  \n",
      " 19  feat                   28352 non-null  int64  \n",
      " 20  remix                  28352 non-null  int64  \n",
      " 21  you                    28352 non-null  int64  \n",
      " 22  me                     28352 non-null  int64  \n",
      " 23  i                      28352 non-null  int64  \n",
      " 24  release_year           28352 non-null  int32  \n",
      " 25  release_month          28352 non-null  int32  \n",
      " 26  duration_s             28352 non-null  float64\n",
      " 27  before_2010            28352 non-null  int32  \n",
      " 28  number_tracks_artist   28352 non-null  float64\n",
      " 29  time_since_release     28352 non-null  int32  \n",
      "dtypes: float64(11), int32(4), int64(15)\n",
      "memory usage: 6.3 MB\n"
     ]
    }
   ],
   "source": [
    "df_merged_final.info()"
   ]
  },
  {
   "cell_type": "code",
   "execution_count": null,
   "id": "dcc108a0-ac07-45c6-b509-46d8cd747943",
   "metadata": {},
   "outputs": [],
   "source": []
  }
 ],
 "metadata": {
  "kernelspec": {
   "display_name": "Python 3 (ipykernel)",
   "language": "python",
   "name": "python3"
  },
  "language_info": {
   "codemirror_mode": {
    "name": "ipython",
    "version": 3
   },
   "file_extension": ".py",
   "mimetype": "text/x-python",
   "name": "python",
   "nbconvert_exporter": "python",
   "pygments_lexer": "ipython3",
   "version": "3.11.5"
  }
 },
 "nbformat": 4,
 "nbformat_minor": 5
}
